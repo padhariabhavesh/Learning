{
 "cells": [
  {
   "cell_type": "code",
   "execution_count": 1,
   "id": "4b1139f8",
   "metadata": {},
   "outputs": [
    {
     "name": "stdout",
     "output_type": "stream",
     "text": [
      "0\n"
     ]
    }
   ],
   "source": [
    "spam_amount =0\n",
    "print(spam_amount)"
   ]
  },
  {
   "cell_type": "markdown",
   "id": "ac216320",
   "metadata": {},
   "source": [
    "Ordering spam , egg, Spam, Spam, bacon and Spam ( 4 more serving of Spam)"
   ]
  },
  {
   "cell_type": "code",
   "execution_count": 2,
   "id": "c8172a36",
   "metadata": {},
   "outputs": [],
   "source": [
    "spam_amount = spam_amount +4"
   ]
  },
  {
   "cell_type": "code",
   "execution_count": 3,
   "id": "0275958a",
   "metadata": {},
   "outputs": [
    {
     "name": "stdout",
     "output_type": "stream",
     "text": [
      "But I don't want any spam!\n"
     ]
    }
   ],
   "source": [
    "if spam_amount > 0:\n",
    "    print(\"But I don't want any spam!\")"
   ]
  },
  {
   "cell_type": "code",
   "execution_count": 4,
   "id": "923beb5d",
   "metadata": {},
   "outputs": [
    {
     "name": "stdout",
     "output_type": "stream",
     "text": [
      "SpamSpamSpamSpam\n"
     ]
    }
   ],
   "source": [
    "viking_song = \"Spam\" * spam_amount\n",
    "print(viking_song)"
   ]
  },
  {
   "cell_type": "code",
   "execution_count": 5,
   "id": "5156c522",
   "metadata": {},
   "outputs": [
    {
     "name": "stdout",
     "output_type": "stream",
     "text": [
      "4\n"
     ]
    }
   ],
   "source": [
    "print(spam_amount)"
   ]
  },
  {
   "cell_type": "markdown",
   "id": "ea45c4db",
   "metadata": {},
   "source": [
    "Variable Assignment : Here we can create a variable called spam_amount and assign it the value of 0 using =, which us called the assignment operator."
   ]
  },
  {
   "cell_type": "markdown",
   "id": "96305858",
   "metadata": {},
   "source": [
    "Functions calls: print is a Python function that displays the value passed to it on the screen. We call functions by putting parenthesis after their name, and putting the inputs ( or arguments) to the functions in those parentheses."
   ]
  },
  {
   "cell_type": "markdown",
   "id": "dcd5b62b",
   "metadata": {},
   "source": [
    "Ordering spam , egg, Spam, Spam, bacon and Spam ( 4 more serving of Spam)"
   ]
  },
  {
   "cell_type": "code",
   "execution_count": 7,
   "id": "52a63f1b",
   "metadata": {},
   "outputs": [],
   "source": [
    "spam_amount = spam_amount + 4"
   ]
  },
  {
   "cell_type": "code",
   "execution_count": 8,
   "id": "4f4ce0dc",
   "metadata": {},
   "outputs": [
    {
     "name": "stdout",
     "output_type": "stream",
     "text": [
      "But I don't want any Spam\n",
      "Spam Spam spam\n"
     ]
    }
   ],
   "source": [
    "if spam_amount > 0:\n",
    "    print(\"But I don't want any Spam\")\n",
    "viking_song = \"Spam Spam spam\"\n",
    "print(viking_song)"
   ]
  },
  {
   "cell_type": "code",
   "execution_count": 9,
   "id": "1c96aa6c",
   "metadata": {},
   "outputs": [],
   "source": [
    "spam_amount = 0"
   ]
  },
  {
   "cell_type": "code",
   "execution_count": 10,
   "id": "052e201a",
   "metadata": {},
   "outputs": [
    {
     "data": {
      "text/plain": [
       "int"
      ]
     },
     "execution_count": 10,
     "metadata": {},
     "output_type": "execute_result"
    }
   ],
   "source": [
    "type(spam_amount)"
   ]
  },
  {
   "cell_type": "code",
   "execution_count": 11,
   "id": "a2e59257",
   "metadata": {},
   "outputs": [
    {
     "data": {
      "text/plain": [
       "float"
      ]
     },
     "execution_count": 11,
     "metadata": {},
     "output_type": "execute_result"
    }
   ],
   "source": [
    "type(19.95)"
   ]
  },
  {
   "cell_type": "code",
   "execution_count": 12,
   "id": "9dc83695",
   "metadata": {},
   "outputs": [
    {
     "name": "stdout",
     "output_type": "stream",
     "text": [
      "2.5\n"
     ]
    }
   ],
   "source": [
    "print(5/2)"
   ]
  },
  {
   "cell_type": "code",
   "execution_count": 13,
   "id": "3d4538d5",
   "metadata": {},
   "outputs": [
    {
     "name": "stdout",
     "output_type": "stream",
     "text": [
      "3.0\n"
     ]
    }
   ],
   "source": [
    "print(6/2)"
   ]
  },
  {
   "cell_type": "code",
   "execution_count": 14,
   "id": "e9dcb67c",
   "metadata": {},
   "outputs": [
    {
     "name": "stdout",
     "output_type": "stream",
     "text": [
      "2\n"
     ]
    }
   ],
   "source": [
    "print(5//2)"
   ]
  },
  {
   "cell_type": "code",
   "execution_count": 15,
   "id": "ec0706d8",
   "metadata": {},
   "outputs": [
    {
     "name": "stdout",
     "output_type": "stream",
     "text": [
      "3\n"
     ]
    }
   ],
   "source": [
    "print(6//2)"
   ]
  },
  {
   "cell_type": "markdown",
   "id": "9b2c9685",
   "metadata": {},
   "source": [
    "PEMDAS - Parentheses, Exponents , Multiplications, Division, Addition, Subtractions"
   ]
  },
  {
   "cell_type": "code",
   "execution_count": 16,
   "id": "1da78afa",
   "metadata": {},
   "outputs": [
    {
     "data": {
      "text/plain": [
       "7"
      ]
     },
     "execution_count": 16,
     "metadata": {},
     "output_type": "execute_result"
    }
   ],
   "source": [
    "8-3+2"
   ]
  },
  {
   "cell_type": "code",
   "execution_count": 17,
   "id": "79e7a800",
   "metadata": {},
   "outputs": [
    {
     "data": {
      "text/plain": [
       "5"
      ]
     },
     "execution_count": 17,
     "metadata": {},
     "output_type": "execute_result"
    }
   ],
   "source": [
    "-3+4*2"
   ]
  },
  {
   "cell_type": "code",
   "execution_count": 19,
   "id": "9c741e69",
   "metadata": {},
   "outputs": [
    {
     "name": "stdout",
     "output_type": "stream",
     "text": [
      "Heights in meters =  26.9 ?\n"
     ]
    }
   ],
   "source": [
    "hat_heights_cm = 25\n",
    "my_heights = 190\n",
    "#How tell am I , in meters, what wearing my hat?\n",
    "total_heights_meters = hat_heights_cm + my_heights / 100\n",
    "print(\"Heights in meters = \", total_heights_meters, \"?\")"
   ]
  },
  {
   "cell_type": "code",
   "execution_count": 20,
   "id": "d145fe57",
   "metadata": {},
   "outputs": [
    {
     "name": "stdout",
     "output_type": "stream",
     "text": [
      "Height in meters =  2.15\n"
     ]
    }
   ],
   "source": [
    "total_heights_meters = (hat_heights_cm + my_heights) / 100\n",
    "print(\"Height in meters = \", total_heights_meters)"
   ]
  },
  {
   "cell_type": "code",
   "execution_count": 21,
   "id": "c2a3be8c",
   "metadata": {},
   "outputs": [
    {
     "name": "stdout",
     "output_type": "stream",
     "text": [
      "Minimum 1\n",
      "Maximum 3\n"
     ]
    }
   ],
   "source": [
    "print(\"Minimum\",min(1,2,3))\n",
    "print(\"Maximum\",max(1,2,3))"
   ]
  },
  {
   "cell_type": "code",
   "execution_count": 23,
   "id": "507d2215",
   "metadata": {},
   "outputs": [
    {
     "name": "stdout",
     "output_type": "stream",
     "text": [
      "32\n",
      "32\n"
     ]
    }
   ],
   "source": [
    "# abs : Absolute Value\n",
    "print(abs(32))\n",
    "print(abs(-32))"
   ]
  },
  {
   "cell_type": "code",
   "execution_count": 24,
   "id": "f21e2369",
   "metadata": {},
   "outputs": [
    {
     "name": "stdout",
     "output_type": "stream",
     "text": [
      "10.0\n",
      "3\n",
      "888\n"
     ]
    }
   ],
   "source": [
    "print(float(10))\n",
    "print(int(3.33))\n",
    "\n",
    "# They can even be called on strings\n",
    "print(int('887') + 1)"
   ]
  },
  {
   "cell_type": "code",
   "execution_count": null,
   "id": "d52924e9",
   "metadata": {},
   "outputs": [],
   "source": []
  }
 ],
 "metadata": {
  "kernelspec": {
   "display_name": "Python 3 (ipykernel)",
   "language": "python",
   "name": "python3"
  },
  "language_info": {
   "codemirror_mode": {
    "name": "ipython",
    "version": 3
   },
   "file_extension": ".py",
   "mimetype": "text/x-python",
   "name": "python",
   "nbconvert_exporter": "python",
   "pygments_lexer": "ipython3",
   "version": "3.9.12"
  }
 },
 "nbformat": 4,
 "nbformat_minor": 5
}
